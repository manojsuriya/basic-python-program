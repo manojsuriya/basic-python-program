{
  "nbformat": 4,
  "nbformat_minor": 0,
  "metadata": {
    "colab": {
      "provenance": [],
      "authorship_tag": "ABX9TyMe4yNjwAg4YzTd/DW3taZi",
      "include_colab_link": true
    },
    "kernelspec": {
      "name": "python3",
      "display_name": "Python 3"
    },
    "language_info": {
      "name": "python"
    }
  },
  "cells": [
    {
      "cell_type": "markdown",
      "metadata": {
        "id": "view-in-github",
        "colab_type": "text"
      },
      "source": [
        "<a href=\"https://colab.research.google.com/github/manojsuriya/basic-python-program/blob/main/Untitled20.ipynb\" target=\"_parent\"><img src=\"https://colab.research.google.com/assets/colab-badge.svg\" alt=\"Open In Colab\"/></a>"
      ]
    },
    {
      "cell_type": "code",
      "execution_count": 6,
      "metadata": {
        "colab": {
          "base_uri": "https://localhost:8080/"
        },
        "id": "RJVPgjxhme_z",
        "outputId": "971ec9bb-d708-4bf4-f482-e8de14d8f1f0"
      },
      "outputs": [
        {
          "output_type": "stream",
          "name": "stdout",
          "text": [
            "enter month:4\n",
            "30 days\n"
          ]
        }
      ],
      "source": [
        "#to find a day of month\n",
        "month = int(input(\"enter month:\"))\n",
        "if month in (1,3,5,7,8,10,12):\n",
        "  print(\"31 days\")\n",
        "elif month in (4,6,9,11):\n",
        "    print(\"30 days\")\n",
        "elif month==2:\n",
        "      print(\"28/29 days\")\n",
        "else:\n",
        "        print(\"invalid\")"
      ]
    },
    {
      "cell_type": "markdown",
      "source": [],
      "metadata": {
        "id": "XCLGiYrXj87B"
      }
    },
    {
      "cell_type": "code",
      "source": [
        "#temperature\n",
        "temp = int(input(\"enter temperature:\"))\n",
        "if temp==37:\n",
        "  print(\"person is normal\")\n",
        "elif temp>37  :\n",
        "  print(\"person has fever\")\n",
        "else:\n",
        "  print(\"person has cold\")"
      ],
      "metadata": {
        "colab": {
          "base_uri": "https://localhost:8080/"
        },
        "id": "XvfL5sKup-_x",
        "outputId": "8a983b7d-f3d4-4bcc-8d91-eb5f88089504"
      },
      "execution_count": 7,
      "outputs": [
        {
          "output_type": "stream",
          "name": "stdout",
          "text": [
            "enter temperature:56\n",
            "person has fever\n"
          ]
        }
      ]
    },
    {
      "cell_type": "code",
      "source": [
        "#sum of cubes\n",
        "m=int(input(\"enter m\"))\n",
        "n=int(input(\"enter n\"))\n",
        "if m>n:\n",
        "  print(0)\n",
        "else:\n",
        "  s=0\n",
        "  for i in range(m,n+1):\n",
        "    s=s+i**3\n",
        "  print(s)\n"
      ],
      "metadata": {
        "colab": {
          "base_uri": "https://localhost:8080/"
        },
        "id": "8xCH7yoDrHox",
        "outputId": "d766d960-3404-4b9c-fb66-d103ad875a35"
      },
      "execution_count": 58,
      "outputs": [
        {
          "output_type": "stream",
          "name": "stdout",
          "text": [
            "enter m5\n",
            "enter n9\n",
            "1925\n"
          ]
        }
      ]
    },
    {
      "cell_type": "code",
      "source": [
        "#print name\n",
        "print(\"manoj\")\n",
        "\n"
      ],
      "metadata": {
        "colab": {
          "base_uri": "https://localhost:8080/"
        },
        "id": "fOPX6unOuHiz",
        "outputId": "329216fa-a284-47b7-a0a2-cabc83d24544"
      },
      "execution_count": 17,
      "outputs": [
        {
          "output_type": "stream",
          "name": "stdout",
          "text": [
            "manoj\n"
          ]
        }
      ]
    },
    {
      "cell_type": "code",
      "source": [
        "#using input fun\n",
        "s=input(\"enter your name\")\n",
        "print(s)"
      ],
      "metadata": {
        "colab": {
          "base_uri": "https://localhost:8080/"
        },
        "id": "TwJJWzbswEZd",
        "outputId": "02250f87-7037-4dd6-f09c-95b3a66e6a43"
      },
      "execution_count": 18,
      "outputs": [
        {
          "output_type": "stream",
          "name": "stdout",
          "text": [
            "enter your namesuriya\n",
            "suriya\n"
          ]
        }
      ]
    },
    {
      "cell_type": "code",
      "source": [
        "#print full name\n",
        "a=input(\"enter the first name\")\n",
        "b=input(\"enter the second name\")\n",
        "c=a+b\n",
        "print(c)\n",
        ""
      ],
      "metadata": {
        "colab": {
          "base_uri": "https://localhost:8080/"
        },
        "id": "gt90UzolwPFc",
        "outputId": "7f640892-a0b7-4008-c92e-9adac63933f3"
      },
      "execution_count": 19,
      "outputs": [
        {
          "output_type": "stream",
          "name": "stdout",
          "text": [
            "enter the first namemanoj\n",
            "enter the second namesuriya\n",
            "manojsuriya\n"
          ]
        }
      ]
    },
    {
      "cell_type": "code",
      "source": [
        "#sum of two numbers\n",
        "a=int(input(\"enter the first number\"))\n",
        "b=int(input(\"enter the second number\"))\n",
        "c=a+b\n",
        "c"
      ],
      "metadata": {
        "colab": {
          "base_uri": "https://localhost:8080/"
        },
        "id": "WKltQuG2we3E",
        "outputId": "5d3f0609-0a3b-4a22-d1f8-a15913212424"
      },
      "execution_count": 20,
      "outputs": [
        {
          "name": "stdout",
          "output_type": "stream",
          "text": [
            "enter the first number2\n",
            "enter the second number5\n"
          ]
        },
        {
          "output_type": "execute_result",
          "data": {
            "text/plain": [
              "7"
            ]
          },
          "metadata": {},
          "execution_count": 20
        }
      ]
    },
    {
      "cell_type": "code",
      "source": [
        "#swap two numbers without 3rd variable\n",
        "a=int(input(\"enter the first number\"))\n",
        "b=int(input(\"enter the second number\"))\n",
        "a=a+b\n",
        "b=a-b\n",
        "a=a-b\n",
        "print(a,b)"
      ],
      "metadata": {
        "colab": {
          "base_uri": "https://localhost:8080/"
        },
        "id": "DaHQYvkbwuPF",
        "outputId": "28ae0d17-1819-4c04-b9ca-cea7860f8e2d"
      },
      "execution_count": 21,
      "outputs": [
        {
          "output_type": "stream",
          "name": "stdout",
          "text": [
            "enter the first number7\n",
            "enter the second number5\n",
            "5 7\n"
          ]
        }
      ]
    },
    {
      "cell_type": "code",
      "source": [
        "#to print primitive datatypes\n",
        "a=5\n",
        "b=1.4\n",
        "c=True\n",
        "print(type(a))\n",
        "print(type(b))\n",
        "print(type(c))"
      ],
      "metadata": {
        "colab": {
          "base_uri": "https://localhost:8080/"
        },
        "id": "P5bh-4mrw8ub",
        "outputId": "f2c830e9-d876-47a7-b7b5-79a978c20509"
      },
      "execution_count": 22,
      "outputs": [
        {
          "output_type": "stream",
          "name": "stdout",
          "text": [
            "<class 'int'>\n",
            "<class 'float'>\n",
            "<class 'bool'>\n"
          ]
        }
      ]
    },
    {
      "cell_type": "code",
      "source": [
        "#to print non-primitive datatypes\n",
        "a=(1,2,3)\n",
        "b=[1,2,3]\n",
        "c={1,2,3,4,5}\n",
        "d={1:\"a\",2:\"b\"}\n",
        "print(type(a))\n",
        "print(type(b))\n",
        "print(type(c))\n",
        "print(type(d))"
      ],
      "metadata": {
        "colab": {
          "base_uri": "https://localhost:8080/"
        },
        "id": "HLgFTjSdRwtB",
        "outputId": "f1297336-7d78-454e-b34b-9885dcc4b295"
      },
      "execution_count": 23,
      "outputs": [
        {
          "output_type": "stream",
          "name": "stdout",
          "text": [
            "<class 'tuple'>\n",
            "<class 'list'>\n",
            "<class 'set'>\n",
            "<class 'dict'>\n"
          ]
        }
      ]
    },
    {
      "cell_type": "code",
      "source": [
        "a=int(input(\"enter the number\"))\n",
        "print(a**2)\n",
        "\n",
        "\n",
        "a=int(input(\"enter the first number\"))\n",
        "b=int(input(\"enter the second number\"))\n",
        "c=int(input(\"enter the third number\"))\n",
        "print((a+b+c)//3)"
      ],
      "metadata": {
        "colab": {
          "base_uri": "https://localhost:8080/",
          "height": 106
        },
        "id": "weD07wRvR4wB",
        "outputId": "f74138e2-ae20-4193-b08e-2a5c5678a4e2"
      },
      "execution_count": 24,
      "outputs": [
        {
          "output_type": "error",
          "ename": "SyntaxError",
          "evalue": "invalid syntax (ipython-input-2964812548.py, line 4)",
          "traceback": [
            "\u001b[0;36m  File \u001b[0;32m\"/tmp/ipython-input-2964812548.py\"\u001b[0;36m, line \u001b[0;32m4\u001b[0m\n\u001b[0;31m    enter the number5\u001b[0m\n\u001b[0m          ^\u001b[0m\n\u001b[0;31mSyntaxError\u001b[0m\u001b[0;31m:\u001b[0m invalid syntax\n"
          ]
        }
      ]
    },
    {
      "cell_type": "code",
      "source": [],
      "metadata": {
        "id": "Z-zMcUCXdRPm"
      },
      "execution_count": null,
      "outputs": []
    },
    {
      "cell_type": "code",
      "source": [
        "# Program to multiply input by 10\n",
        "\n",
        "num = int(input(\"Enter a number: \"))\n",
        "result = num * 10\n",
        "print(\"Result after multiplying by 10:\", result)"
      ],
      "metadata": {
        "colab": {
          "base_uri": "https://localhost:8080/"
        },
        "id": "Moj-8AMlSwR6",
        "outputId": "57ef3ce9-5d27-4f11-c6b1-61e6862ab8ee"
      },
      "execution_count": 25,
      "outputs": [
        {
          "output_type": "stream",
          "name": "stdout",
          "text": [
            "Enter a number: 1\n",
            "Result after multiplying by 10: 10\n"
          ]
        }
      ]
    },
    {
      "cell_type": "code",
      "source": [
        "# Program to convert minutes to seconds\n",
        "\n",
        "minutes = int(input(\"Enter time in minutes: \"))\n",
        "seconds = minutes * 60\n",
        "print(minutes, \"minutes =\", seconds, \"seconds\")"
      ],
      "metadata": {
        "colab": {
          "base_uri": "https://localhost:8080/"
        },
        "id": "JPR9QZsjS68C",
        "outputId": "7eaeecad-7241-40ca-9b9f-08195299eb99"
      },
      "execution_count": 26,
      "outputs": [
        {
          "output_type": "stream",
          "name": "stdout",
          "text": [
            "Enter time in minutes: 5\n",
            "5 minutes = 300 seconds\n"
          ]
        }
      ]
    },
    {
      "cell_type": "code",
      "source": [
        "# Program to find largest of three numbers\n",
        "\n",
        "a = float(input(\"Enter first number: \"))\n",
        "b = float(input(\"Enter second number: \"))\n",
        "c = float(input(\"Enter third number: \"))\n",
        "\n",
        "largest = max(a, b, c)\n",
        "print(\"The largest number is:\", largest)"
      ],
      "metadata": {
        "colab": {
          "base_uri": "https://localhost:8080/"
        },
        "id": "p3QTagOPTCmK",
        "outputId": "78ab62de-cfb1-46df-aae5-db7bb79c6784"
      },
      "execution_count": 27,
      "outputs": [
        {
          "output_type": "stream",
          "name": "stdout",
          "text": [
            "Enter first number: 7\n",
            "Enter second number: 3\n",
            "Enter third number: 1\n",
            "The largest number is: 7.0\n"
          ]
        }
      ]
    },
    {
      "cell_type": "code",
      "source": [
        "# Program to find sum of first n natural, even, and odd numbers\n",
        "\n",
        "n = int(input(\"Enter a positive integer: \"))\n"
      ],
      "metadata": {
        "colab": {
          "base_uri": "https://localhost:8080/"
        },
        "id": "v5E-hZZ8TQVR",
        "outputId": "e729fdae-eeaf-4a16-ad2c-39170d19935f"
      },
      "execution_count": 28,
      "outputs": [
        {
          "name": "stdout",
          "output_type": "stream",
          "text": [
            "Enter a positive integer: 4\n"
          ]
        }
      ]
    },
    {
      "cell_type": "code",
      "source": [
        "# Sum of first n odd numbers: 1 + 3 + 5 + ... + (2n-1) = n^2\n",
        "sum_odd = n * n\n",
        "\n",
        "print(\"Sum of first\", n, \"natural numbers:\", sum_natural)\n",
        "print(\"Sum of first\", n, \"even numbers:\", sum_even)\n",
        "print(\"Sum of first\", n, \"odd numbers:\", sum_odd)"
      ],
      "metadata": {
        "colab": {
          "base_uri": "https://localhost:8080/"
        },
        "id": "AwV1-oyqT0Gb",
        "outputId": "e6786136-6ae3-48ce-e760-158f94c5e43e"
      },
      "execution_count": 33,
      "outputs": [
        {
          "output_type": "stream",
          "name": "stdout",
          "text": [
            "Sum of first 4 natural numbers: 10\n",
            "Sum of first 4 even numbers: 20\n",
            "Sum of first 4 odd numbers: 16\n"
          ]
        }
      ]
    },
    {
      "cell_type": "code",
      "source": [
        "# Program to check if number is positive, negative or zero\n",
        "\n",
        "num = float(input(\"Enter a number: \"))\n",
        "\n",
        "if num > 0:\n",
        "    print(\"The number is Positive\")\n",
        "elif num < 0:\n",
        "    print(\"The number is Negative\")\n",
        "else:\n",
        "    print(\"The number is Zero\")"
      ],
      "metadata": {
        "colab": {
          "base_uri": "https://localhost:8080/"
        },
        "id": "R_Q4FzNsUCYh",
        "outputId": "221f9ad0-d25b-45c7-e447-5c957eb7193b"
      },
      "execution_count": 34,
      "outputs": [
        {
          "output_type": "stream",
          "name": "stdout",
          "text": [
            "Enter a number: 5\n",
            "The number is Positive\n"
          ]
        }
      ]
    },
    {
      "cell_type": "code",
      "source": [
        "# Program to check odd or even\n",
        "\n",
        "num = int(input(\"Enter an integer: \"))\n",
        "\n",
        "if num % 2 == 0:\n",
        "    print(num, \"is Even\")\n",
        "else:\n",
        "    print(num, \"is Odd\")"
      ],
      "metadata": {
        "colab": {
          "base_uri": "https://localhost:8080/"
        },
        "id": "p-SPDaLzUKaL",
        "outputId": "367ac349-09d4-4bda-b728-f620e5e686a2"
      },
      "execution_count": 35,
      "outputs": [
        {
          "output_type": "stream",
          "name": "stdout",
          "text": [
            "Enter an integer: 2\n",
            "2 is Even\n"
          ]
        }
      ]
    },
    {
      "cell_type": "code",
      "source": [
        "# Program to check if number is divisible by 5 and 11\n",
        "\n",
        "num = int(input(\"Enter an integer: \"))\n",
        "\n",
        "if num % 5 == 0 and num % 11 == 0:\n",
        "    print(num, \"is divisible by both 5 and 11\")\n",
        "else:\n",
        "    print(num, \"is NOT divisible by both 5 and 11\")"
      ],
      "metadata": {
        "colab": {
          "base_uri": "https://localhost:8080/"
        },
        "id": "ogQ2isaBUUIy",
        "outputId": "5a376d6e-6205-4b67-8d99-18762cc96a83"
      },
      "execution_count": 36,
      "outputs": [
        {
          "output_type": "stream",
          "name": "stdout",
          "text": [
            "Enter an integer: 6\n",
            "6 is NOT divisible by both 5 and 11\n"
          ]
        }
      ]
    },
    {
      "cell_type": "code",
      "source": [
        "# Program to check grade using marks\n",
        "\n",
        "marks = int(input(\"Enter your marks (0-100): \"))\n",
        "\n",
        "if marks >= 90:\n",
        "    grade = \"A+\"\n",
        "elif marks >= 80:\n",
        "    grade = \"A\"\n",
        "elif marks >= 70:\n",
        "    grade = \"B\"\n",
        "elif marks >= 60:\n",
        "    grade = \"C\"\n",
        "elif marks >= 50:\n",
        "    grade = \"D\"\n",
        "elif marks >= 35:\n",
        "    grade = \"E\"\n",
        "else:\n",
        "    grade = \"F (Fail)\"\n",
        "\n",
        "print(\"Your Grade is:\", grade)"
      ],
      "metadata": {
        "colab": {
          "base_uri": "https://localhost:8080/"
        },
        "id": "0k7eYMESUfQh",
        "outputId": "f6fd7fac-04ae-4c3d-c794-271fe10603e4"
      },
      "execution_count": 38,
      "outputs": [
        {
          "output_type": "stream",
          "name": "stdout",
          "text": [
            "Enter your marks (0-100): 90\n",
            "Your Grade is: A+\n"
          ]
        }
      ]
    },
    {
      "cell_type": "code",
      "source": [
        "# Program to check the day of the week\n",
        "\n",
        "day = int(input(\"Enter a number (1-7): \"))\n",
        "\n",
        "if day == 1:\n",
        "    print(\"Sunday\")\n",
        "elif day == 2:\n",
        "    print(\"Monday\")\n",
        "elif day == 3:\n",
        "    print(\"Tuesday\")\n",
        "elif day == 4:\n",
        "    print(\"Wednesday\")\n",
        "elif day == 5:\n",
        "    print(\"Thursday\")\n",
        "elif day == 6:\n",
        "    print(\"Friday\")\n",
        "elif day == 7:\n",
        "    print(\"Saturday\")\n",
        "else:\n",
        "    print(\"Invalid input! Please enter a number between 1 and 7.\")"
      ],
      "metadata": {
        "colab": {
          "base_uri": "https://localhost:8080/"
        },
        "id": "ji8D-VAHUqg7",
        "outputId": "fe18470e-1004-4136-c97d-8fd300b18dca"
      },
      "execution_count": 39,
      "outputs": [
        {
          "output_type": "stream",
          "name": "stdout",
          "text": [
            "Enter a number (1-7): 5\n",
            "Thursday\n"
          ]
        }
      ]
    },
    {
      "cell_type": "code",
      "source": [
        "# simple credential check\n",
        "username = input(\"Enter username: \")\n",
        "password = input(\"Enter password: \")"
      ],
      "metadata": {
        "colab": {
          "base_uri": "https://localhost:8080/"
        },
        "id": "HY0orX-cU0ML",
        "outputId": "00de1f37-9510-4cb1-e93b-de1cb261909b"
      },
      "execution_count": 40,
      "outputs": [
        {
          "name": "stdout",
          "output_type": "stream",
          "text": [
            "Enter username: manoj\n",
            "Enter password: 12345\n"
          ]
        }
      ]
    },
    {
      "cell_type": "code",
      "source": [
        "# hardcoded credentials\n",
        "correct_user = \"admin\"\n",
        "correct_pass = \"password123\"\n",
        "\n",
        "if username == correct_user and password == correct_pass:\n",
        "    print(\"Login successful ✅\")\n",
        "else:\n",
        "    print(\"Login failed — invalid username or password ❌\")"
      ],
      "metadata": {
        "colab": {
          "base_uri": "https://localhost:8080/"
        },
        "id": "kJ_rjjpzVBDc",
        "outputId": "f2e2e4fe-9349-473e-a329-360df4568f94"
      },
      "execution_count": 41,
      "outputs": [
        {
          "output_type": "stream",
          "name": "stdout",
          "text": [
            "Login failed — invalid username or password ❌\n"
          ]
        }
      ]
    },
    {
      "cell_type": "code",
      "source": [
        "# Simple Arithmetic Program\n",
        "\n",
        "a = int(input(\"Enter first number: \"))\n",
        "b = int(input(\"Enter second number: \"))\n",
        "\n",
        "print(\"Addition:\", a + b)\n",
        "print(\"Subtraction:\", a - b)\n",
        "print(\"Multiplication:\", a * b)\n",
        "print(\"Division:\", a / b)"
      ],
      "metadata": {
        "colab": {
          "base_uri": "https://localhost:8080/"
        },
        "id": "CauLhhdXVIB9",
        "outputId": "9b67cb1f-127a-4459-e2a0-acd7fe6d64fc"
      },
      "execution_count": 42,
      "outputs": [
        {
          "output_type": "stream",
          "name": "stdout",
          "text": [
            "Enter first number: 3\n",
            "Enter second number: 5\n",
            "Addition: 8\n",
            "Subtraction: -2\n",
            "Multiplication: 15\n",
            "Division: 0.6\n"
          ]
        }
      ]
    },
    {
      "cell_type": "code",
      "source": [
        "# Program to check number of days in a month\n",
        "\n",
        "month = int(input(\"Enter month number (1-12): \"))\n",
        "\n",
        "if month == 1 or month == 3 or month == 5 or month == 7 or month == 8 or month == 10 or month == 12:\n",
        "    print(\"31 days\")\n",
        "elif month == 4 or month == 6 or month == 9 or month == 11:\n",
        "    print(\"30 days\")\n",
        "elif month == 2:\n",
        "    print(\"28 or 29 days (February)\")\n",
        "else:\n",
        "    print(\"Invalid month number! Please enter between 1 and 12.\")"
      ],
      "metadata": {
        "colab": {
          "base_uri": "https://localhost:8080/"
        },
        "id": "04MZMwA3VTTU",
        "outputId": "d629b3df-c5bc-49a0-bb57-d868efac193c"
      },
      "execution_count": 43,
      "outputs": [
        {
          "output_type": "stream",
          "name": "stdout",
          "text": [
            "Enter month number (1-12): 7\n",
            "31 days\n"
          ]
        }
      ]
    },
    {
      "cell_type": "code",
      "source": [
        "# Program to check body temperature\n",
        "\n",
        "temp = float(input(\"Enter your body temperature in °C: \"))\n",
        "\n",
        "if temp >= 37.5:\n",
        "    print(\"You have Fever 🤒\")\n",
        "elif 36.0 <= temp < 37.5:\n",
        "    print(\"Your temperature is Normal 🙂\")\n",
        "else:\n",
        "    print(\"You feel Cold 🥶\")\n",
        "# Program to find sum of cubes from m to n\n",
        "\n",
        "def sum_of_cubes(m, n):\n",
        "    if m > n:\n",
        "        print(\"Invalid range! m should be <= n\")\n",
        "        return 0\n",
        "    total = 0\n",
        "    for i in range(m, n + 1):\n",
        "        total += i ** 3\n",
        "    return total"
      ],
      "metadata": {
        "colab": {
          "base_uri": "https://localhost:8080/"
        },
        "id": "-jNvfdKqVcWc",
        "outputId": "d916b0cb-dbf5-4486-cfb9-dfd8362dad2f"
      },
      "execution_count": 44,
      "outputs": [
        {
          "output_type": "stream",
          "name": "stdout",
          "text": [
            "Enter your body temperature in °C: 37\n",
            "Your temperature is Normal 🙂\n"
          ]
        }
      ]
    },
    {
      "cell_type": "code",
      "source": [
        "# Program to find sum of first n natural, even, and odd numbers\n",
        "\n",
        "n = int(input(\"Enter a positive integer: \"))\n",
        "\n",
        "# Sum of first n natural numbers\n",
        "sum_natural = n * (n + 1) // 2\n",
        "\n",
        "# Sum of first n even numbers: 2 + 4 + 6 + ... + 2n = n(n+1)\n",
        "sum_even = n * (n + 1)\n",
        "\n",
        "# Sum of first n odd numbers: 1 + 3 + 5 + ... + (2n-1) = n^2\n",
        "sum_odd = n * n\n",
        "\n",
        "print(\"Sum of first\", n, \"natural numbers:\", sum_natural)\n",
        "print(\"Sum of first\", n, \"even numbers:\", sum_even)\n",
        "print(\"Sum of first\", n, \"odd numbers:\", sum_odd)"
      ],
      "metadata": {
        "colab": {
          "base_uri": "https://localhost:8080/"
        },
        "id": "df4Tu8Ehbk3f",
        "outputId": "35de41e6-edc3-434b-a2cb-1caca37977fb"
      },
      "execution_count": 46,
      "outputs": [
        {
          "output_type": "stream",
          "name": "stdout",
          "text": [
            "Enter a positive integer: 6\n",
            "Sum of first 6 natural numbers: 21\n",
            "Sum of first 6 even numbers: 42\n",
            "Sum of first 6 odd numbers: 36\n"
          ]
        }
      ]
    },
    {
      "cell_type": "code",
      "source": [
        "week=int(input(\"enter week\"))\n",
        "if week==1:\n",
        "  print(\"day is sunday\")\n",
        "elif week==2:\n",
        "  print(\"day is monday\")\n",
        "elif week==3:\n",
        "  print(\"day is tuesday\")\n",
        "elif week==4:\n",
        "  print(\"day is wednesday\")\n",
        "elif week==5:\n",
        "  print(\"day is thursday\")\n",
        "elif week==6:\n",
        "  print(\"day is friday\")\n",
        "elif week==7:\n",
        "  print(\"day is saturday\")\n",
        "else:\n",
        "  print(\"invalid day\""
      ],
      "metadata": {
        "colab": {
          "base_uri": "https://localhost:8080/",
          "height": 106
        },
        "id": "HcHV8b4HeGao",
        "outputId": "477ccd1a-6e66-4729-9cde-8f2e7e40e169"
      },
      "execution_count": 47,
      "outputs": [
        {
          "output_type": "error",
          "ename": "SyntaxError",
          "evalue": "incomplete input (ipython-input-740533132.py, line 17)",
          "traceback": [
            "\u001b[0;36m  File \u001b[0;32m\"/tmp/ipython-input-740533132.py\"\u001b[0;36m, line \u001b[0;32m17\u001b[0m\n\u001b[0;31m    print(\"invalid day\"\u001b[0m\n\u001b[0m                       ^\u001b[0m\n\u001b[0;31mSyntaxError\u001b[0m\u001b[0;31m:\u001b[0m incomplete input\n"
          ]
        }
      ]
    },
    {
      "cell_type": "code",
      "source": [],
      "metadata": {
        "id": "SpQP1pW6iuGm"
      },
      "execution_count": null,
      "outputs": []
    },
    {
      "cell_type": "code",
      "source": [
        "a=int(input(\"enter a\"))\n",
        "b=int(input(\"enter b\"))\n",
        "ch=int(input(\"enter ch\"))\n",
        "if ch==1:\n",
        "  sum=a+b\n",
        "  print(\"the sum is\",sum)\n",
        "elif ch==2:\n",
        "  diff=a-b\n",
        "  print(\"the diff is\",diff)\n",
        "elif ch==3:\n",
        "  pro=a*b\n",
        "  print(\"the product is\",pro)\n",
        "elif ch==4:\n",
        "  div=a/b\n",
        "  print(\"the quotient is\",div)\n",
        "elif ch==5:\n",
        "  rem=a%b\n",
        "  print(\"the rem is\",rem)\n",
        "else:\n",
        "  print(\"invalid choice\")"
      ],
      "metadata": {
        "colab": {
          "base_uri": "https://localhost:8080/"
        },
        "id": "KhlvRip4f3Db",
        "outputId": "c57dffbf-aba8-4ad1-cb26-ab0d90604d0e"
      },
      "execution_count": 48,
      "outputs": [
        {
          "output_type": "stream",
          "name": "stdout",
          "text": [
            "enter a5\n",
            "enter b5\n",
            "enter ch6\n",
            "invalid choice\n"
          ]
        }
      ]
    },
    {
      "cell_type": "code",
      "source": [
        "month=int(input(\"enter month:\"))\n",
        "if month in (1,3,5,7,8,10,12):\n",
        "  print(\"31 days\")\n",
        "elif month in (4,6,9,11):\n",
        "  print(\"30 days\")\n",
        "elif month==2:\n",
        "  print(\"28 or 29 days\")\n",
        "else:\n",
        "  print(\"invalid days\")"
      ],
      "metadata": {
        "colab": {
          "base_uri": "https://localhost:8080/"
        },
        "id": "T1y4tJPmg3Lz",
        "outputId": "df6a09fe-517a-49a8-e967-2f2c21a1a1cc"
      },
      "execution_count": 49,
      "outputs": [
        {
          "output_type": "stream",
          "name": "stdout",
          "text": [
            "enter month:7\n",
            "31 days\n"
          ]
        }
      ]
    },
    {
      "cell_type": "code",
      "source": [
        "temp=int(input(\"enter temperature\"))\n",
        "if temp==37:\n",
        "  print(\"person is normal\")\n",
        "elif temp>37:\n",
        "  print(\"person has fever\")\n",
        "else:\n",
        "  print(\"person has cold\")"
      ],
      "metadata": {
        "colab": {
          "base_uri": "https://localhost:8080/"
        },
        "id": "3iKRGkAIhTuI",
        "outputId": "880a092d-e786-4a89-dbf7-88f5501ff7d6"
      },
      "execution_count": 50,
      "outputs": [
        {
          "output_type": "stream",
          "name": "stdout",
          "text": [
            "enter temperature7\n",
            "person has cold\n"
          ]
        }
      ]
    },
    {
      "cell_type": "code",
      "source": [
        "m=int(input(\"enter m\"))\n",
        "n=int(input(\"enter n\"))\n",
        "if m>n:\n",
        "  print(0)\n",
        "else:\n",
        "  s=0\n",
        "  for i in range(m,n+1):\n",
        "    s+=i**3\n",
        "  print(s)"
      ],
      "metadata": {
        "colab": {
          "base_uri": "https://localhost:8080/"
        },
        "id": "VfPwsxUthiSR",
        "outputId": "5ff34e25-f751-4aa5-d0de-3964ea1fdb19"
      },
      "execution_count": 51,
      "outputs": [
        {
          "output_type": "stream",
          "name": "stdout",
          "text": [
            "enter m5\n",
            "enter n5\n",
            "125\n"
          ]
        }
      ]
    },
    {
      "cell_type": "code",
      "source": [
        "user=\"santhi\"\n",
        "pw=\"222\"\n",
        "u=input(\"enter username\")\n",
        "if u==user:\n",
        "  p=input(\"enter the password\")\n",
        "  if p==pw:\n",
        "    print(\"welcome\")\n",
        "  else:\n",
        "    print(\"enter valid password\")\n",
        "else:\n",
        "  print(\"inncorrect username\")"
      ],
      "metadata": {
        "colab": {
          "base_uri": "https://localhost:8080/"
        },
        "id": "qYMxwmrHhsPu",
        "outputId": "8098a111-1007-4af5-c04d-6e4975a10b3f"
      },
      "execution_count": 53,
      "outputs": [
        {
          "output_type": "stream",
          "name": "stdout",
          "text": [
            "enter usernamemanoj\n",
            "inncorrect username\n"
          ]
        }
      ]
    },
    {
      "cell_type": "code",
      "source": [
        "\n",
        "def tiffen_items():\n",
        "    global total_bill\n",
        "    print(\"Welcome to Tiffen Section \\nWhat type of Tiffen you want like \\n1.Dosa \\n2.Idly \\n 3.Puri \\n4.Bajji\")\n",
        "    a = int(input(\"Enter the Tiffen you would like in (1-4): \"))\n",
        "    if a == 1:\n",
        "        price = 25\n",
        "        item = \"Dosa\"\n",
        "    elif a == 2:\n",
        "        price = 20\n",
        "        item = \"Idly\"\n",
        "    elif a == 3:\n",
        "        price = 15\n",
        "        item = \"Puri\"\n",
        "    elif a == 4:\n",
        "        price = 10\n",
        "        item = \"Bajji\"\n",
        "    else:\n",
        "        print(\"Invalid input\")\n",
        "        return\n",
        "\n",
        "    b = int(input(\"Enter the quantity you would like: \"))\n",
        "    bill = b * price\n",
        "    total_bill += bill\n",
        "    cart_items.append(f\"{item} x{b} = {bill}\")\n",
        "    print(f\"Added {item} x{b} to cart. Total price: {bill}\")\n"
      ],
      "metadata": {
        "id": "9fIxKAS1iwzy"
      },
      "execution_count": 54,
      "outputs": []
    },
    {
      "cell_type": "code",
      "source": [],
      "metadata": {
        "id": "3-UcHtHgiw_T"
      },
      "execution_count": null,
      "outputs": []
    },
    {
      "cell_type": "code",
      "source": [],
      "metadata": {
        "id": "b5tx4aw8ixAw"
      },
      "execution_count": null,
      "outputs": []
    },
    {
      "cell_type": "code",
      "source": [],
      "metadata": {
        "id": "rp4IQjKAixDk"
      },
      "execution_count": null,
      "outputs": []
    },
    {
      "cell_type": "code",
      "source": [],
      "metadata": {
        "id": "mTHnalpDixFw"
      },
      "execution_count": null,
      "outputs": []
    },
    {
      "cell_type": "code",
      "source": [],
      "metadata": {
        "id": "wjE-vZm-ixIL"
      },
      "execution_count": null,
      "outputs": []
    }
  ]
}